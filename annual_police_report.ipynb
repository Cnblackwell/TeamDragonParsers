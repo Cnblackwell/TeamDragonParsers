{
 "cells": [
  {
   "cell_type": "code",
   "execution_count": 1,
   "metadata": {},
   "outputs": [
    {
     "name": "stderr",
     "output_type": "stream",
     "text": [
      "INFO:root:Toronto Open DataFrame created successfully using CKAN API parameters.\n"
     ]
    },
    {
     "data": {
      "text/html": [
       "<div>\n",
       "<style scoped>\n",
       "    .dataframe tbody tr th:only-of-type {\n",
       "        vertical-align: middle;\n",
       "    }\n",
       "\n",
       "    .dataframe tbody tr th {\n",
       "        vertical-align: top;\n",
       "    }\n",
       "\n",
       "    .dataframe thead th {\n",
       "        text-align: right;\n",
       "    }\n",
       "</style>\n",
       "<table border=\"1\" class=\"dataframe\">\n",
       "  <thead>\n",
       "    <tr style=\"text-align: right;\">\n",
       "      <th></th>\n",
       "      <th>_id</th>\n",
       "      <th>ARREST_YEAR</th>\n",
       "      <th>DIVISION</th>\n",
       "      <th>HOOD_158</th>\n",
       "      <th>NEIGHBOURHOOD_158</th>\n",
       "      <th>SEX</th>\n",
       "      <th>AGE_COHORT</th>\n",
       "      <th>AGE_GROUP</th>\n",
       "      <th>CATEGORY</th>\n",
       "      <th>SUBTYPE</th>\n",
       "      <th>ARREST_COUNT</th>\n",
       "    </tr>\n",
       "  </thead>\n",
       "  <tbody>\n",
       "    <tr>\n",
       "      <th>0</th>\n",
       "      <td>17</td>\n",
       "      <td>2021</td>\n",
       "      <td>D11</td>\n",
       "      <td>111</td>\n",
       "      <td>Rockcliffe-Smythe (111)</td>\n",
       "      <td>Male</td>\n",
       "      <td>35 to 44</td>\n",
       "      <td>Adult</td>\n",
       "      <td>Crimes Against the Person</td>\n",
       "      <td>Assaults</td>\n",
       "      <td>2</td>\n",
       "    </tr>\n",
       "    <tr>\n",
       "      <th>1</th>\n",
       "      <td>50</td>\n",
       "      <td>2014</td>\n",
       "      <td>D11</td>\n",
       "      <td>81</td>\n",
       "      <td>Trinity-Bellwoods (81)</td>\n",
       "      <td>Male</td>\n",
       "      <td>18 to 24</td>\n",
       "      <td>Adult</td>\n",
       "      <td>Crimes Against the Person</td>\n",
       "      <td>Assaults</td>\n",
       "      <td>1</td>\n",
       "    </tr>\n",
       "    <tr>\n",
       "      <th>2</th>\n",
       "      <td>63</td>\n",
       "      <td>2014</td>\n",
       "      <td>D11</td>\n",
       "      <td>85</td>\n",
       "      <td>South Parkdale (85)</td>\n",
       "      <td>Male</td>\n",
       "      <td>35 to 44</td>\n",
       "      <td>Adult</td>\n",
       "      <td>Crimes Against the Person</td>\n",
       "      <td>Assaults</td>\n",
       "      <td>3</td>\n",
       "    </tr>\n",
       "    <tr>\n",
       "      <th>3</th>\n",
       "      <td>75</td>\n",
       "      <td>2020</td>\n",
       "      <td>D11</td>\n",
       "      <td>171</td>\n",
       "      <td>Junction-Wallace Emerson (171)</td>\n",
       "      <td>Female</td>\n",
       "      <td>25 to 34</td>\n",
       "      <td>Adult</td>\n",
       "      <td>Crimes Against the Person</td>\n",
       "      <td>Assaults</td>\n",
       "      <td>3</td>\n",
       "    </tr>\n",
       "    <tr>\n",
       "      <th>4</th>\n",
       "      <td>100</td>\n",
       "      <td>2015</td>\n",
       "      <td>D11</td>\n",
       "      <td>171</td>\n",
       "      <td>Junction-Wallace Emerson (171)</td>\n",
       "      <td>Male</td>\n",
       "      <td>25 to 34</td>\n",
       "      <td>Adult</td>\n",
       "      <td>Crimes Against Property</td>\n",
       "      <td>Theft Under $5000</td>\n",
       "      <td>8</td>\n",
       "    </tr>\n",
       "  </tbody>\n",
       "</table>\n",
       "</div>"
      ],
      "text/plain": [
       "   _id  ARREST_YEAR DIVISION HOOD_158               NEIGHBOURHOOD_158     SEX  \\\n",
       "0   17         2021      D11      111         Rockcliffe-Smythe (111)    Male   \n",
       "1   50         2014      D11       81          Trinity-Bellwoods (81)    Male   \n",
       "2   63         2014      D11       85             South Parkdale (85)    Male   \n",
       "3   75         2020      D11      171  Junction-Wallace Emerson (171)  Female   \n",
       "4  100         2015      D11      171  Junction-Wallace Emerson (171)    Male   \n",
       "\n",
       "  AGE_COHORT AGE_GROUP                   CATEGORY            SUBTYPE  \\\n",
       "0   35 to 44     Adult  Crimes Against the Person           Assaults   \n",
       "1   18 to 24     Adult  Crimes Against the Person           Assaults   \n",
       "2   35 to 44     Adult  Crimes Against the Person           Assaults   \n",
       "3   25 to 34     Adult  Crimes Against the Person           Assaults   \n",
       "4   25 to 34     Adult    Crimes Against Property  Theft Under $5000   \n",
       "\n",
       "   ARREST_COUNT  \n",
       "0             2  \n",
       "1             1  \n",
       "2             3  \n",
       "3             3  \n",
       "4             8  "
      ]
     },
     "execution_count": 1,
     "metadata": {},
     "output_type": "execute_result"
    }
   ],
   "source": [
    "import logging\n",
    "import requests\n",
    "import pandas as pd\n",
    "import json\n",
    "import matplotlib.pyplot as plt\n",
    "import numpy as np\n",
    "\n",
    "\n",
    "# Configure logging\n",
    "logging.basicConfig(level=logging.INFO, handlers=[logging.StreamHandler(), logging.FileHandler('package_id_log')])\n",
    "\n",
    "def load_data_OpenDataTO(package_id_log):\n",
    "    \"\"\"\n",
    "    Load a dataset from the Toronto Open Data API.\n",
    "\n",
    "    Parameters:\n",
    "    - package_id (str): The ID of the package containing the dataset in a dict {}.\n",
    "\n",
    "    Returns:\n",
    "    - pd.DataFrame or None: A DataFrame containing the dataset if successfully loaded, \n",
    "                            or None if an error occurred.\n",
    "    \"\"\"\n",
    "    # Define the base URL for the Toronto Open Data API\n",
    "    base_url = \"https://ckan0.cf.opendata.inter.prod-toronto.ca\"\n",
    "\n",
    "    # Define the URL to access the metadata of a package\n",
    "    metadata_url = base_url + \"/api/3/action/package_show\"\n",
    "\n",
    "    # Set the parameters to retrieve information about the desired package\n",
    "    params = {\"id\": package_id_log}\n",
    "         \n",
    "    # Send a GET request to retrieve metadata about the package\n",
    "    response = requests.get(metadata_url, params=params)\n",
    "\n",
    "    # Check if the GET request was successful\n",
    "    if response.status_code == 200:\n",
    "        # Parse the JSON response\n",
    "        package_info = response.json()\n",
    "        \n",
    "        # Extract information about the resources in the package\n",
    "        resources = package_info['result']['resources']\n",
    "        \n",
    "        # Look for a JSON resource and load its data using CKAN API\n",
    "        for resource in resources:\n",
    "            if resource['format'].lower() == 'json':\n",
    "                data_url = base_url + \"/api/3/action/datastore_search\"\n",
    "                params = {\"id\": resource[\"id\"]}\n",
    "                filters = {\n",
    "                    #\"ARREST_YEAR\": [2014,2015,2016,2017,2018, 2019, 2020, 2021, 2022],\n",
    "                    \"DIVISION\": \"D11\"  # Filter for DIVISION(Geographic division where crime took place)\n",
    "                }\n",
    "\n",
    "                all_records = []\n",
    "                limit = 5000  # Number of records to retrieve per request\n",
    "                \n",
    "                # Paginate through the data until all records are retrieved\n",
    "                offset = 0\n",
    "                while True:\n",
    "                    params[\"offset\"] = offset\n",
    "                    params[\"limit\"] = limit\n",
    "                    params[\"filters\"] = json.dumps(filters)  # Encode filters as JSON string\n",
    "                    response = requests.get(data_url, params=params)\n",
    "                    response_json = response.json()\n",
    "                    if \"result\" not in response_json or not response_json[\"success\"]:\n",
    "                        logging.error(\"Error retrieving data from the API.\")\n",
    "                        return None\n",
    "                    \n",
    "                    resource_search_data = response_json[\"result\"]\n",
    "                    records = resource_search_data.get(\"records\", [])\n",
    "                    all_records.extend(records)\n",
    "                    \n",
    "                    # Check if we have fetched all records\n",
    "                    if len(records) < limit:\n",
    "                        break  # Break the loop if all records have been retrieved\n",
    "                    \n",
    "                    offset += limit  # Move to the next page\n",
    "                \n",
    "                df = pd.DataFrame(all_records)\n",
    "                logging.info(\"Toronto Open DataFrame created successfully using CKAN API parameters.\")\n",
    "                return df\n",
    "        else:\n",
    "            logging.warning(\"No JSON resource found in the package.\")\n",
    "            return None\n",
    "            \n",
    "    else:\n",
    "        logging.error(\"Failed to retrieve metadata from the API.\")\n",
    "        return None\n",
    "\n",
    "# Load the Annual Police Report data into the DataFrame\n",
    "    \n",
    "package_id = \"police-annual-statistical-report-arrested-and-charged-persons\"\n",
    "\n",
    "annual_police_report = load_data_OpenDataTO(package_id)\n",
    "if annual_police_report is not None:\n",
    "    annual_police_report.head()\n",
    "else:\n",
    "    logging.error(\"Failed to load the dataset.\")\n",
    "annual_police_report.head()"
   ]
  },
  {
   "cell_type": "code",
   "execution_count": 205,
   "metadata": {},
   "outputs": [
    {
     "data": {
      "text/html": [
       "<div>\n",
       "<style scoped>\n",
       "    .dataframe tbody tr th:only-of-type {\n",
       "        vertical-align: middle;\n",
       "    }\n",
       "\n",
       "    .dataframe tbody tr th {\n",
       "        vertical-align: top;\n",
       "    }\n",
       "\n",
       "    .dataframe thead th {\n",
       "        text-align: right;\n",
       "    }\n",
       "</style>\n",
       "<table border=\"1\" class=\"dataframe\">\n",
       "  <thead>\n",
       "    <tr style=\"text-align: right;\">\n",
       "      <th></th>\n",
       "      <th>_id</th>\n",
       "      <th>arrest_year</th>\n",
       "      <th>division</th>\n",
       "      <th>hood_158</th>\n",
       "      <th>neighbourhood_158</th>\n",
       "      <th>sex</th>\n",
       "      <th>age_cohort</th>\n",
       "      <th>age_group</th>\n",
       "      <th>category</th>\n",
       "      <th>subtype</th>\n",
       "      <th>arrest_count</th>\n",
       "    </tr>\n",
       "  </thead>\n",
       "  <tbody>\n",
       "    <tr>\n",
       "      <th>0</th>\n",
       "      <td>17</td>\n",
       "      <td>2021</td>\n",
       "      <td>D11</td>\n",
       "      <td>111</td>\n",
       "      <td>Rockcliffe-Smythe (111)</td>\n",
       "      <td>Male</td>\n",
       "      <td>35 to 44</td>\n",
       "      <td>Adult</td>\n",
       "      <td>Crimes Against the Person</td>\n",
       "      <td>Assaults</td>\n",
       "      <td>2</td>\n",
       "    </tr>\n",
       "    <tr>\n",
       "      <th>1</th>\n",
       "      <td>50</td>\n",
       "      <td>2014</td>\n",
       "      <td>D11</td>\n",
       "      <td>81</td>\n",
       "      <td>Trinity-Bellwoods (81)</td>\n",
       "      <td>Male</td>\n",
       "      <td>18 to 24</td>\n",
       "      <td>Adult</td>\n",
       "      <td>Crimes Against the Person</td>\n",
       "      <td>Assaults</td>\n",
       "      <td>1</td>\n",
       "    </tr>\n",
       "    <tr>\n",
       "      <th>2</th>\n",
       "      <td>63</td>\n",
       "      <td>2014</td>\n",
       "      <td>D11</td>\n",
       "      <td>85</td>\n",
       "      <td>South Parkdale (85)</td>\n",
       "      <td>Male</td>\n",
       "      <td>35 to 44</td>\n",
       "      <td>Adult</td>\n",
       "      <td>Crimes Against the Person</td>\n",
       "      <td>Assaults</td>\n",
       "      <td>3</td>\n",
       "    </tr>\n",
       "    <tr>\n",
       "      <th>3</th>\n",
       "      <td>75</td>\n",
       "      <td>2020</td>\n",
       "      <td>D11</td>\n",
       "      <td>171</td>\n",
       "      <td>Junction-Wallace Emerson (171)</td>\n",
       "      <td>Female</td>\n",
       "      <td>25 to 34</td>\n",
       "      <td>Adult</td>\n",
       "      <td>Crimes Against the Person</td>\n",
       "      <td>Assaults</td>\n",
       "      <td>3</td>\n",
       "    </tr>\n",
       "    <tr>\n",
       "      <th>4</th>\n",
       "      <td>100</td>\n",
       "      <td>2015</td>\n",
       "      <td>D11</td>\n",
       "      <td>171</td>\n",
       "      <td>Junction-Wallace Emerson (171)</td>\n",
       "      <td>Male</td>\n",
       "      <td>25 to 34</td>\n",
       "      <td>Adult</td>\n",
       "      <td>Crimes Against Property</td>\n",
       "      <td>Theft Under $5000</td>\n",
       "      <td>8</td>\n",
       "    </tr>\n",
       "  </tbody>\n",
       "</table>\n",
       "</div>"
      ],
      "text/plain": [
       "   _id  arrest_year division hood_158               neighbourhood_158     sex  \\\n",
       "0   17         2021      D11      111         Rockcliffe-Smythe (111)    Male   \n",
       "1   50         2014      D11       81          Trinity-Bellwoods (81)    Male   \n",
       "2   63         2014      D11       85             South Parkdale (85)    Male   \n",
       "3   75         2020      D11      171  Junction-Wallace Emerson (171)  Female   \n",
       "4  100         2015      D11      171  Junction-Wallace Emerson (171)    Male   \n",
       "\n",
       "  age_cohort age_group                   category            subtype  \\\n",
       "0   35 to 44     Adult  Crimes Against the Person           Assaults   \n",
       "1   18 to 24     Adult  Crimes Against the Person           Assaults   \n",
       "2   35 to 44     Adult  Crimes Against the Person           Assaults   \n",
       "3   25 to 34     Adult  Crimes Against the Person           Assaults   \n",
       "4   25 to 34     Adult    Crimes Against Property  Theft Under $5000   \n",
       "\n",
       "   arrest_count  \n",
       "0             2  \n",
       "1             1  \n",
       "2             3  \n",
       "3             3  \n",
       "4             8  "
      ]
     },
     "execution_count": 205,
     "metadata": {},
     "output_type": "execute_result"
    }
   ],
   "source": [
    "#converting column names to lowecase\n",
    "def rename_data(annual_police_report):\n",
    "  if annual_police_report is None:\n",
    "    raise ValueError('No columns found')\n",
    "  report=annual_police_report.rename(columns=str.lower)\n",
    "  return report\n",
    "rename_data(annual_police_report)\n",
    "annual_police_report=rename_data(annual_police_report)\n",
    "annual_police_report.head()"
   ]
  },
  {
   "cell_type": "code",
   "execution_count": 206,
   "metadata": {},
   "outputs": [
    {
     "data": {
      "text/plain": [
       "(7621, 11)"
      ]
     },
     "execution_count": 206,
     "metadata": {},
     "output_type": "execute_result"
    }
   ],
   "source": [
    "annual_police_report.shape"
   ]
  },
  {
   "cell_type": "code",
   "execution_count": 207,
   "metadata": {},
   "outputs": [
    {
     "data": {
      "text/plain": [
       "CategoricalDtype(categories=['18 to 24', '25 to 34', '35 to 44', '45 to 54', '55 to 64',\n",
       "                  '65+', '<18', 'Unknown'],\n",
       ", ordered=False, categories_dtype=object)"
      ]
     },
     "execution_count": 207,
     "metadata": {},
     "output_type": "execute_result"
    }
   ],
   "source": [
    "annual_police_report[\"age_cohort\"] = annual_police_report[\"age_cohort\"].astype(\"category\")\n",
    "annual_police_report[\"age_cohort\"].dtype\n"
   ]
  },
  {
   "cell_type": "code",
   "execution_count": 208,
   "metadata": {},
   "outputs": [],
   "source": [
    "def total_only_f(dataframe: pd.DataFrame) -> pd.DataFrame:\n",
    "    \n",
    "    # Create a dataframe where 'category' is Total Arrests only \n",
    "    total_data = dataframe[dataframe['category'] == 'Total Arrests']\n",
    "\n",
    "    return total_data"
   ]
  },
  {
   "cell_type": "code",
   "execution_count": 209,
   "metadata": {},
   "outputs": [],
   "source": [
    "def by_year_f(dataframe: pd.DataFrame) -> pd.DataFrame:\n",
    "    # Group rows by year\n",
    "    by_group = dataframe.groupby(['arrest_year'])\n",
    "\n",
    "    # Add up all Total Arrests for each year\n",
    "    year_sum = by_group.agg(arrest_count = ('arrest_count', 'sum'))\n",
    "\n",
    "    return year_sum"
   ]
  },
  {
   "cell_type": "code",
   "execution_count": 210,
   "metadata": {},
   "outputs": [
    {
     "data": {
      "text/html": [
       "<div>\n",
       "<style scoped>\n",
       "    .dataframe tbody tr th:only-of-type {\n",
       "        vertical-align: middle;\n",
       "    }\n",
       "\n",
       "    .dataframe tbody tr th {\n",
       "        vertical-align: top;\n",
       "    }\n",
       "\n",
       "    .dataframe thead th {\n",
       "        text-align: right;\n",
       "    }\n",
       "</style>\n",
       "<table border=\"1\" class=\"dataframe\">\n",
       "  <thead>\n",
       "    <tr style=\"text-align: right;\">\n",
       "      <th></th>\n",
       "      <th>arrest_count</th>\n",
       "    </tr>\n",
       "    <tr>\n",
       "      <th>arrest_year</th>\n",
       "      <th></th>\n",
       "    </tr>\n",
       "  </thead>\n",
       "  <tbody>\n",
       "    <tr>\n",
       "      <th>2014</th>\n",
       "      <td>1577</td>\n",
       "    </tr>\n",
       "    <tr>\n",
       "      <th>2015</th>\n",
       "      <td>1418</td>\n",
       "    </tr>\n",
       "    <tr>\n",
       "      <th>2016</th>\n",
       "      <td>1487</td>\n",
       "    </tr>\n",
       "    <tr>\n",
       "      <th>2017</th>\n",
       "      <td>1405</td>\n",
       "    </tr>\n",
       "    <tr>\n",
       "      <th>2018</th>\n",
       "      <td>1216</td>\n",
       "    </tr>\n",
       "    <tr>\n",
       "      <th>2019</th>\n",
       "      <td>1242</td>\n",
       "    </tr>\n",
       "    <tr>\n",
       "      <th>2020</th>\n",
       "      <td>1000</td>\n",
       "    </tr>\n",
       "    <tr>\n",
       "      <th>2021</th>\n",
       "      <td>943</td>\n",
       "    </tr>\n",
       "    <tr>\n",
       "      <th>2022</th>\n",
       "      <td>1127</td>\n",
       "    </tr>\n",
       "  </tbody>\n",
       "</table>\n",
       "</div>"
      ],
      "text/plain": [
       "             arrest_count\n",
       "arrest_year              \n",
       "2014                 1577\n",
       "2015                 1418\n",
       "2016                 1487\n",
       "2017                 1405\n",
       "2018                 1216\n",
       "2019                 1242\n",
       "2020                 1000\n",
       "2021                  943\n",
       "2022                 1127"
      ]
     },
     "execution_count": 210,
     "metadata": {},
     "output_type": "execute_result"
    }
   ],
   "source": [
    "total_df = total_only_f(annual_police_report)\n",
    "by_year = by_year_f(total_df)\n",
    "by_year"
   ]
  },
  {
   "cell_type": "code",
   "execution_count": 211,
   "metadata": {},
   "outputs": [],
   "source": [
    "def plotby_year_f(data: pd.DataFrame,column):\n",
    "    fig,ax = plt.subplots()\n",
    "    ax.set_axisbelow(True)\n",
    "    ax.grid(alpha=0.3)   \n",
    "    offset=0.7\n",
    "    count = ax.bar(data.index, data[column], width=offset)\n",
    "    ax.set_title('(Division-D11) Toronto \\n ARRESTS COUNT BY YEAR', fontweight='bold')\n",
    "    ax.set_xlabel('Year')\n",
    "    ax.set_ylabel('Counts')"
   ]
  },
  {
   "cell_type": "code",
   "execution_count": 212,
   "metadata": {},
   "outputs": [
    {
     "data": {
      "image/png": "[encoded data removed]",
      "text/plain": [
       "<Figure size 640x480 with 1 Axes>"
      ]
     },
     "metadata": {},
     "output_type": "display_data"
    }
   ],
   "source": [
    "plotby_year_f(by_year,'arrest_count')\n",
    "\n",
    "plt.savefig('arrest_by_year.pdf')\n",
    "# write save command"
   ]
  },
  {
   "cell_type": "code",
   "execution_count": 213,
   "metadata": {},
   "outputs": [],
   "source": [
    "def conditions_f(row):    \n",
    "    if row[\"age_group\"] == 'Adult':\n",
    "        row['_adult'] = row['arrest_count']\n",
    "        row['_youth'] = 0\n",
    "    elif row[\"age_group\"] == 'Youth':\n",
    "        row['_adult'] = 0\n",
    "        row['_youth'] = row['arrest_count']\n",
    "    return row[['_adult','_youth']]"
   ]
  },
  {
   "cell_type": "code",
   "execution_count": 214,
   "metadata": {},
   "outputs": [],
   "source": [
    "def by_year_age_f(data: pd.DataFrame) -> pd.DataFrame:\n",
    "\n",
    "    # Group rows by year\n",
    "    year_age_group = data.groupby(['arrest_year','age_group'])\n",
    "\n",
    "    # Add up all Total Arrests for each year\n",
    "    year_age_sum = year_age_group.agg(arrest_count = ('arrest_count', 'sum')).reset_index()\n",
    "\n",
    "    # dropping unknown age_group\n",
    "    year_age_sum = year_age_sum.drop(year_age_sum[year_age_sum['age_group'] == 'Unknown'].index)  \n",
    "\n",
    "    # create columns '_adult', '_youth' based on 'age_group\n",
    "    year_age_sum[['_adult','_youth']] = year_age_sum.apply(conditions_f, axis=1)\n",
    "\n",
    "    # drop 'age_group' and 'arrest_count' because these values have been moved to '_adult','_youth'\n",
    "    year_age_sum = year_age_sum.drop(['age_group', 'arrest_count'], axis=1)\n",
    "\n",
    "    # group by year \n",
    "    year_age_group = year_age_sum.groupby(['arrest_year']).agg(adult=('_adult','sum'),\n",
    "                                       youth=('_youth','sum')).reset_index()\n",
    "\n",
    "    return year_age_group"
   ]
  },
  {
   "cell_type": "code",
   "execution_count": 215,
   "metadata": {},
   "outputs": [],
   "source": [
    "def plotby_year_age_f(data,years):\n",
    "    barWidth = 0.35\n",
    "\n",
    "    # Set the position of the bars on the x-axis\n",
    "    r1 = np.arange(len(data['adult']))\n",
    "    r2 = [x + barWidth for x in r1]\n",
    "\n",
    "    # Create the bar plots\n",
    "    plt.bar(r1, data['adult'], color='blue', width=barWidth, edgecolor='white', label='Adult')\n",
    "    plt.bar(r2, data['youth'], color='red', width=barWidth, edgecolor='white', label='Youth')\n",
    "\n",
    "    # Add x-axis and y-axis labels and a title\n",
    "    plt.xlabel('Year')\n",
    "    plt.ylabel('Counts')\n",
    "    plt.title('(Division-D11) Toronto \\n ARRESTS COUNT BY YEAR', fontweight='bold')\n",
    "\n",
    "    # Add x-axis tick labels for years\n",
    "    plt.xticks([r + barWidth / 2 for r in range(len(data['adult']))], years)\n",
    "    \n",
    "    # Add legend\n",
    "    plt.legend()\n",
    "\n",
    "    plt.show()"
   ]
  },
  {
   "cell_type": "code",
   "execution_count": 216,
   "metadata": {},
   "outputs": [],
   "source": [
    "year_age_df = by_year_age_f(total_df)\n",
    "arrest_year=year_age_df['arrest_year']"
   ]
  },
  {
   "cell_type": "code",
   "execution_count": 217,
   "metadata": {},
   "outputs": [
    {
     "data": {
      "text/plain": [
       "0    2014\n",
       "1    2015\n",
       "2    2016\n",
       "3    2017\n",
       "4    2018\n",
       "5    2019\n",
       "6    2020\n",
       "7    2021\n",
       "8    2022\n",
       "Name: arrest_year, dtype: int64"
      ]
     },
     "execution_count": 217,
     "metadata": {},
     "output_type": "execute_result"
    }
   ],
   "source": [
    "#year_age_df\n",
    "arrest_year"
   ]
  },
  {
   "cell_type": "code",
   "execution_count": 218,
   "metadata": {},
   "outputs": [
    {
     "data": {
      "image/png": "[encoded data removed]",
      "text/plain": [
       "<Figure size 640x480 with 1 Axes>"
      ]
     },
     "metadata": {},
     "output_type": "display_data"
    },
    {
     "data": {
      "text/plain": [
       "<Figure size 640x480 with 0 Axes>"
      ]
     },
     "metadata": {},
     "output_type": "display_data"
    }
   ],
   "source": [
    "plotby_year_age_f(year_age_df,arrest_year)\n",
    "plt.savefig('arrest_by_year_age.pdf')\n",
    "# write save command"
   ]
  },
  {
   "cell_type": "code",
   "execution_count": 219,
   "metadata": {},
   "outputs": [],
   "source": [
    "def plot_by_year_age_cohort_f(annual_police_report):\n",
    "    try:\n",
    "        # Group the data by 'age_cohort' and 'arrest_year' and sum the 'arrest_count' for each group\n",
    "        grouped_data = annual_police_report.groupby(['age_cohort', 'arrest_year'], observed=True)['arrest_count'].sum()\n",
    "\n",
    "        # Create a dictionary to store subsets of data for each age cohort\n",
    "        subset_dict = {}\n",
    "\n",
    "        # Iterate through each group\n",
    "        for (age_cohort, arrest_year), total_arrests in grouped_data.items():\n",
    "            try:\n",
    "                # Check if the age cohort already exists in the dictionary\n",
    "                if age_cohort not in subset_dict:\n",
    "                    # If not, create a new entry with an empty list\n",
    "                    subset_dict[age_cohort] = []\n",
    "\n",
    "                # Append the current group to the corresponding age cohort entry\n",
    "                subset_dict[age_cohort].append((arrest_year, total_arrests))\n",
    "            except Exception as e:\n",
    "                print(f\"An error occurred while processing group: {age_cohort}, {arrest_year}\")\n",
    "                print(e)\n",
    "\n",
    "        # Plot each subset\n",
    "        for age_cohort, subset_data in subset_dict.items():\n",
    "            plt.plot([data[0] for data in subset_data], [data[1] for data in subset_data], label=age_cohort)\n",
    "\n",
    "        # Add labels and legend\n",
    "        plt.xlabel('Year')\n",
    "        plt.ylabel('Total Arrests')\n",
    "        plt.title('(Division-D11) Toronto \\n ARRESTS COUNT BY YEAR AND AGE COHORT', fontweight='bold')\n",
    "        plt.legend(title='AGE COHORT', bbox_to_anchor=(1, 1), loc='upper left')\n",
    "\n",
    "        # Show the plot\n",
    "        plt.show()\n",
    "    except Exception as e:\n",
    "        print(\"An error occurred during plot generation:\")\n",
    "        print(e)\n",
    "    plt.savefig('arrest_by_year_age_cohort.pdf')"
   ]
  },
  {
   "cell_type": "code",
   "execution_count": 220,
   "metadata": {},
   "outputs": [
    {
     "data": {
      "image/png": "[encoded data removed]",
      "text/plain": [
       "<Figure size 640x480 with 1 Axes>"
      ]
     },
     "metadata": {},
     "output_type": "display_data"
    },
    {
     "data": {
      "text/plain": [
       "<Figure size 640x480 with 0 Axes>"
      ]
     },
     "metadata": {},
     "output_type": "display_data"
    }
   ],
   "source": [
    "plot_by_year_age_cohort_f(annual_police_report)\n"
   ]
  },
  {
   "cell_type": "code",
   "execution_count": null,
   "metadata": {},
   "outputs": [],
   "source": []
  }
 ],
 "metadata": {
  "kernelspec": {
   "display_name": "Python 3",
   "language": "python",
   "name": "python3"
  },
  "language_info": {
   "codemirror_mode": {
    "name": "ipython",
    "version": 3
   },
   "file_extension": ".py",
   "mimetype": "text/x-python",
   "name": "python",
   "nbconvert_exporter": "python",
   "pygments_lexer": "ipython3",
   "version": "3.11.4"
  }
 },
 "nbformat": 4,
 "nbformat_minor": 2
}
